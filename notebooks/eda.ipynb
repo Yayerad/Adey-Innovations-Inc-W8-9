{
 "cells": [
  {
   "cell_type": "code",
   "execution_count": 27,
   "metadata": {},
   "outputs": [],
   "source": [
    "import pandas as pd\n",
    "import numpy as np\n",
    "import matplotlib.pyplot as plt\n",
    "import seaborn as sns\n",
    "import ipaddress\n",
    "from sklearn.preprocessing import StandardScaler"
   ]
  },
  {
   "cell_type": "code",
   "execution_count": 2,
   "metadata": {},
   "outputs": [],
   "source": [
    "# Load datasets\n",
    "fraud_data = pd.read_csv('../src/data/Fraud_Data.csv')\n",
    "ip_to_country = pd.read_csv('../src/data/IpAddress_to_Country.csv')\n",
    "creditcard = pd.read_csv('../src/data/creditcard.csv')"
   ]
  },
  {
   "cell_type": "code",
   "execution_count": 4,
   "metadata": {},
   "outputs": [
    {
     "name": "stdout",
     "output_type": "stream",
     "text": [
      "Fraud Data:\n",
      "   user_id          signup_time        purchase_time  purchase_value  \\\n",
      "0    22058  2015-02-24 22:55:49  2015-04-18 02:47:11              34   \n",
      "1   333320  2015-06-07 20:39:50  2015-06-08 01:38:54              16   \n",
      "2     1359  2015-01-01 18:52:44  2015-01-01 18:52:45              15   \n",
      "3   150084  2015-04-28 21:13:25  2015-05-04 13:54:50              44   \n",
      "4   221365  2015-07-21 07:09:52  2015-09-09 18:40:53              39   \n",
      "\n",
      "       device_id source browser sex  age    ip_address  class  \n",
      "0  QVPSPJUOCKZAR    SEO  Chrome   M   39  7.327584e+08      0  \n",
      "1  EOGFQPIZPYXFZ    Ads  Chrome   F   53  3.503114e+08      0  \n",
      "2  YSSKYOSJHPPLJ    SEO   Opera   M   53  2.621474e+09      1  \n",
      "3  ATGTXKYKUDUQN    SEO  Safari   M   41  3.840542e+09      0  \n",
      "4  NAUITBZFJKHWW    Ads  Safari   M   45  4.155831e+08      0  \n",
      "\n",
      "IP to Country Data:\n",
      "   lower_bound_ip_address  upper_bound_ip_address    country\n",
      "0              16777216.0                16777471  Australia\n",
      "1              16777472.0                16777727      China\n",
      "2              16777728.0                16778239      China\n",
      "3              16778240.0                16779263  Australia\n",
      "4              16779264.0                16781311      China\n",
      "\n",
      "Credit Card Data:\n",
      "   Time        V1        V2        V3        V4        V5        V6        V7  \\\n",
      "0   0.0 -1.359807 -0.072781  2.536347  1.378155 -0.338321  0.462388  0.239599   \n",
      "1   0.0  1.191857  0.266151  0.166480  0.448154  0.060018 -0.082361 -0.078803   \n",
      "2   1.0 -1.358354 -1.340163  1.773209  0.379780 -0.503198  1.800499  0.791461   \n",
      "3   1.0 -0.966272 -0.185226  1.792993 -0.863291 -0.010309  1.247203  0.237609   \n",
      "4   2.0 -1.158233  0.877737  1.548718  0.403034 -0.407193  0.095921  0.592941   \n",
      "\n",
      "         V8        V9  ...       V21       V22       V23       V24       V25  \\\n",
      "0  0.098698  0.363787  ... -0.018307  0.277838 -0.110474  0.066928  0.128539   \n",
      "1  0.085102 -0.255425  ... -0.225775 -0.638672  0.101288 -0.339846  0.167170   \n",
      "2  0.247676 -1.514654  ...  0.247998  0.771679  0.909412 -0.689281 -0.327642   \n",
      "3  0.377436 -1.387024  ... -0.108300  0.005274 -0.190321 -1.175575  0.647376   \n",
      "4 -0.270533  0.817739  ... -0.009431  0.798278 -0.137458  0.141267 -0.206010   \n",
      "\n",
      "        V26       V27       V28  Amount  Class  \n",
      "0 -0.189115  0.133558 -0.021053  149.62      0  \n",
      "1  0.125895 -0.008983  0.014724    2.69      0  \n",
      "2 -0.139097 -0.055353 -0.059752  378.66      0  \n",
      "3 -0.221929  0.062723  0.061458  123.50      0  \n",
      "4  0.502292  0.219422  0.215153   69.99      0  \n",
      "\n",
      "[5 rows x 31 columns]\n"
     ]
    }
   ],
   "source": [
    "# Display the first few rows of each dataset\n",
    "print(\"Fraud Data:\")\n",
    "print(fraud_data.head())\n",
    "print(\"\\nIP to Country Data:\")\n",
    "print(ip_to_country.head())\n",
    "print(\"\\nCredit Card Data:\")\n",
    "print(creditcard.head())"
   ]
  },
  {
   "cell_type": "markdown",
   "metadata": {},
   "source": [
    "Handle Missing Values"
   ]
  },
  {
   "cell_type": "code",
   "execution_count": null,
   "metadata": {},
   "outputs": [
    {
     "data": {
      "text/plain": [
       "0            SEO\n",
       "1            Ads\n",
       "2            SEO\n",
       "3            SEO\n",
       "4            Ads\n",
       "           ...  \n",
       "151107       SEO\n",
       "151108       SEO\n",
       "151109       SEO\n",
       "151110       SEO\n",
       "151111    Direct\n",
       "Name: source, Length: 151112, dtype: object"
      ]
     },
     "execution_count": 6,
     "metadata": {},
     "output_type": "execute_result"
    }
   ],
   "source": [
    "\n",
    "# Impute missing values in Fraud_Data.csv\n",
    "fraud_data['age'].fillna(fraud_data['age'].median(),)\n",
    "fraud_data['device_id'].fillna('unknown', )\n",
    "fraud_data['browser'].fillna('unknown', )\n",
    "fraud_data['source'].fillna('unknown', )"
   ]
  },
  {
   "cell_type": "code",
   "execution_count": 7,
   "metadata": {},
   "outputs": [
    {
     "name": "stdout",
     "output_type": "stream",
     "text": [
      "\n",
      "Missing values in creditcard data:\n",
      "Time      0\n",
      "V1        0\n",
      "V2        0\n",
      "V3        0\n",
      "V4        0\n",
      "V5        0\n",
      "V6        0\n",
      "V7        0\n",
      "V8        0\n",
      "V9        0\n",
      "V10       0\n",
      "V11       0\n",
      "V12       0\n",
      "V13       0\n",
      "V14       0\n",
      "V15       0\n",
      "V16       0\n",
      "V17       0\n",
      "V18       0\n",
      "V19       0\n",
      "V20       0\n",
      "V21       0\n",
      "V22       0\n",
      "V23       0\n",
      "V24       0\n",
      "V25       0\n",
      "V26       0\n",
      "V27       0\n",
      "V28       0\n",
      "Amount    0\n",
      "Class     0\n",
      "dtype: int64\n"
     ]
    }
   ],
   "source": [
    "# Check for missing values in creditcard.csv\n",
    "print(\"\\nMissing values in creditcard data:\")\n",
    "print(creditcard.isnull().sum())"
   ]
  },
  {
   "cell_type": "markdown",
   "metadata": {},
   "source": [
    "Data Cleaning"
   ]
  },
  {
   "cell_type": "code",
   "execution_count": 8,
   "metadata": {},
   "outputs": [],
   "source": [
    "# Remove duplicates\n",
    "fraud_data = fraud_data.drop_duplicates()\n",
    "creditcard = creditcard.drop_duplicates()"
   ]
  },
  {
   "cell_type": "code",
   "execution_count": 9,
   "metadata": {},
   "outputs": [],
   "source": [
    "# Correct data types\n",
    "fraud_data['signup_time'] = pd.to_datetime(fraud_data['signup_time'])\n",
    "fraud_data['purchase_time'] = pd.to_datetime(fraud_data['purchase_time'])"
   ]
  },
  {
   "cell_type": "code",
   "execution_count": 10,
   "metadata": {},
   "outputs": [],
   "source": [
    "# Convert IP addresses to integers for merging\n",
    "def ip_to_int(ip):\n",
    "    try:\n",
    "        return int(ipaddress.IPv4Address(ip))\n",
    "    except:\n",
    "        return np.nan\n",
    "\n",
    "fraud_data['ip_address_int'] = fraud_data['ip_address'].apply(ip_to_int)"
   ]
  },
  {
   "cell_type": "markdown",
   "metadata": {},
   "source": [
    "Exploratory Data Analysis (EDA)"
   ]
  },
  {
   "cell_type": "code",
   "execution_count": 16,
   "metadata": {},
   "outputs": [
    {
     "data": {
      "image/png": "[encoded data removed]",
      "text/plain": [
       "<Figure size 1000x600 with 1 Axes>"
      ]
     },
     "metadata": {},
     "output_type": "display_data"
    }
   ],
   "source": [
    "# Univariate Analysis\n",
    "# Distribution of purchase_value\n",
    "plt.figure(figsize=(10, 6))\n",
    "sns.histplot(fraud_data['purchase_value'], bins=50, kde=True)\n",
    "plt.title('Distribution of Purchase Value')\n",
    "plt.show()"
   ]
  },
  {
   "cell_type": "code",
   "execution_count": 17,
   "metadata": {},
   "outputs": [
    {
     "data": {
      "image/png": "[encoded data removed]",
      "text/plain": [
       "<Figure size 1000x600 with 1 Axes>"
      ]
     },
     "metadata": {},
     "output_type": "display_data"
    }
   ],
   "source": [
    "# Distribution of age\n",
    "plt.figure(figsize=(10, 6))\n",
    "sns.histplot(fraud_data['age'], bins=30, kde=True)\n",
    "plt.title('Distribution of Age')\n",
    "plt.show()"
   ]
  },
  {
   "cell_type": "code",
   "execution_count": 18,
   "metadata": {},
   "outputs": [
    {
     "name": "stdout",
     "output_type": "stream",
     "text": [
      "\n",
      "Fraud Rate: 9.36%\n"
     ]
    }
   ],
   "source": [
    "# Class imbalance check\n",
    "fraud_rate = fraud_data['class'].mean()\n",
    "print(f\"\\nFraud Rate: {fraud_rate:.2%}\")"
   ]
  },
  {
   "cell_type": "code",
   "execution_count": 19,
   "metadata": {},
   "outputs": [
    {
     "name": "stdout",
     "output_type": "stream",
     "text": [
      "\n",
      "Fraud Rate by Browser:\n",
      "browser\n",
      "Chrome     0.098792\n",
      "FireFox    0.095165\n",
      "Safari     0.090201\n",
      "Opera      0.089227\n",
      "IE         0.086775\n",
      "Name: class, dtype: float64\n"
     ]
    }
   ],
   "source": [
    "# Bivariate Analysis\n",
    "# Fraud rate by browser\n",
    "fraud_rate_browser = fraud_data.groupby('browser')['class'].mean().sort_values(ascending=False)\n",
    "print(\"\\nFraud Rate by Browser:\")\n",
    "print(fraud_rate_browser)\n"
   ]
  },
  {
   "cell_type": "code",
   "execution_count": 20,
   "metadata": {},
   "outputs": [
    {
     "name": "stdout",
     "output_type": "stream",
     "text": [
      "\n",
      "Fraud Rate by Source:\n",
      "source\n",
      "Direct    0.105370\n",
      "Ads       0.092066\n",
      "SEO       0.089285\n",
      "Name: class, dtype: float64\n"
     ]
    }
   ],
   "source": [
    "# Fraud rate by source\n",
    "fraud_rate_source = fraud_data.groupby('source')['class'].mean().sort_values(ascending=False)\n",
    "print(\"\\nFraud Rate by Source:\")\n",
    "print(fraud_rate_source)"
   ]
  },
  {
   "cell_type": "markdown",
   "metadata": {},
   "source": [
    "Merge Datasets for Geolocation Analysis"
   ]
  },
  {
   "cell_type": "code",
   "execution_count": 21,
   "metadata": {},
   "outputs": [],
   "source": [
    "# Convert IP ranges in IpAddress_to_Country.csv to integers\n",
    "ip_to_country['lower_bound'] = ip_to_country['lower_bound_ip_address'].apply(ip_to_int)\n",
    "ip_to_country['upper_bound'] = ip_to_country['upper_bound_ip_address'].apply(ip_to_int)"
   ]
  },
  {
   "cell_type": "code",
   "execution_count": 22,
   "metadata": {},
   "outputs": [],
   "source": [
    "# Map Fraud_Data IPs to countries\n",
    "def get_country(ip_int):\n",
    "    mask = (ip_to_country['lower_bound'] <= ip_int) & (ip_to_country['upper_bound'] >= ip_int)\n",
    "    match = ip_to_country[mask]\n",
    "    return match['country'].iloc[0] if not match.empty else np.nan\n",
    "\n",
    "fraud_data['country'] = fraud_data['ip_address_int'].apply(get_country)"
   ]
  },
  {
   "cell_type": "markdown",
   "metadata": {},
   "source": [
    "Feature Engineering"
   ]
  },
  {
   "cell_type": "code",
   "execution_count": 23,
   "metadata": {},
   "outputs": [],
   "source": [
    "# Time-Based Features\n",
    "fraud_data['purchase_hour'] = fraud_data['purchase_time'].dt.hour\n",
    "fraud_data['purchase_day_of_week'] = fraud_data['purchase_time'].dt.dayofweek\n",
    "fraud_data['account_age_hours'] = (fraud_data['purchase_time'] - fraud_data['signup_time']).dt.total_seconds() / 3600"
   ]
  },
  {
   "cell_type": "code",
   "execution_count": 24,
   "metadata": {},
   "outputs": [],
   "source": [
    "# Transaction Frequency/Velocity\n",
    "fraud_data = fraud_data.sort_values(['user_id', 'purchase_time'])\n",
    "fraud_data['transaction_count'] = fraud_data.groupby('user_id').cumcount() + 1\n",
    "fraud_data['time_since_last_txn'] = fraud_data.groupby('user_id')['purchase_time'].diff().dt.total_seconds() / 3600"
   ]
  },
  {
   "cell_type": "markdown",
   "metadata": {},
   "source": [
    "Normalization and Scaling"
   ]
  },
  {
   "cell_type": "code",
   "execution_count": 28,
   "metadata": {},
   "outputs": [],
   "source": [
    "# Scale numerical features\n",
    "scaler = StandardScaler()\n",
    "fraud_data[['purchase_value_scaled']] = scaler.fit_transform(fraud_data[['purchase_value']])\n",
    "creditcard['Amount_scaled'] = scaler.fit_transform(creditcard[['Amount']])"
   ]
  },
  {
   "cell_type": "markdown",
   "metadata": {},
   "source": [
    "Encode Categorical Features"
   ]
  },
  {
   "cell_type": "code",
   "execution_count": 29,
   "metadata": {},
   "outputs": [],
   "source": [
    "# One-hot encode categorical features\n",
    "fraud_data = pd.get_dummies(\n",
    "    fraud_data, \n",
    "    columns=['source', 'browser', 'sex', 'country'], \n",
    "    drop_first=True\n",
    ")"
   ]
  },
  {
   "cell_type": "markdown",
   "metadata": {},
   "source": [
    "Save Processed Data"
   ]
  },
  {
   "cell_type": "code",
   "execution_count": 30,
   "metadata": {},
   "outputs": [],
   "source": [
    "fraud_data.to_csv('../src/data/fraud_data_processed.csv', index=False)\n",
    "creditcard.to_csv('../src/data/creditcard_processed.csv', index=False)"
   ]
  }
 ],
 "metadata": {
  "kernelspec": {
   "display_name": ".venv",
   "language": "python",
   "name": "python3"
  },
  "language_info": {
   "codemirror_mode": {
    "name": "ipython",
    "version": 3
   },
   "file_extension": ".py",
   "mimetype": "text/x-python",
   "name": "python",
   "nbconvert_exporter": "python",
   "pygments_lexer": "ipython3",
   "version": "3.11.0"
  }
 },
 "nbformat": 4,
 "nbformat_minor": 2
}
